{
 "cells": [
  {
   "cell_type": "code",
   "execution_count": 2,
   "metadata": {},
   "outputs": [],
   "source": [
    "import pandas as pd\n",
    "import numpy as np\n",
    "import matplotlib.pyplot as plt\n",
    "import sklearn\n",
    "import math"
   ]
  },
  {
   "cell_type": "code",
   "execution_count": 3,
   "metadata": {},
   "outputs": [],
   "source": [
    "## Read data\n",
    "ic = pd.read_csv(\"IowaCityHomeSales.csv\")\n",
    "\n",
    "## Split to training and testing sets\n",
    "from sklearn.model_selection import train_test_split\n",
    "train, test = train_test_split(ic, test_size=0.2, random_state=7)\n",
    "\n",
    "## Create target\n",
    "train_y = train['sale.amount']\n",
    "\n",
    "## Create predictor matrix (numeric predictors only for simplicity, but we could use OHE if we wanted to)\n",
    "train_X = train.select_dtypes(\"number\").drop('sale.amount',axis=1)"
   ]
  },
  {
   "cell_type": "code",
   "execution_count": 4,
   "metadata": {},
   "outputs": [],
   "source": [
    "from sklearn.linear_model import LinearRegression\n",
    "from sklearn.preprocessing import StandardScaler, MinMaxScaler\n",
    "from sklearn.pipeline import Pipeline \n",
    "\n",
    "## Simple pipeline\n",
    "pipe = Pipeline([\n",
    "('scaler', StandardScaler()),\n",
    "('model', LinearRegression())\n",
    "])"
   ]
  },
  {
   "cell_type": "code",
   "execution_count": 5,
   "metadata": {},
   "outputs": [
    {
     "data": {
      "text/plain": [
       "array([-1.25805804e+03,  1.92884548e+03,  6.72865255e+02, -1.92085650e+03,\n",
       "       -7.95482914e+01, -3.12181937e+03,  1.97731725e+03,  8.24129242e+02,\n",
       "        1.82409979e+03,  3.74282983e+02,  2.29862180e+00,  8.78235016e+04])"
      ]
     },
     "execution_count": 5,
     "metadata": {},
     "output_type": "execute_result"
    }
   ],
   "source": [
    "## Fit the pipeline to the training data\n",
    "lin_mod = pipe.fit(train_X, train_y)\n",
    "\n",
    "## print the model's coefficients\n",
    "lin_mod.named_steps['model'].coef_"
   ]
  },
  {
   "cell_type": "code",
   "execution_count": 6,
   "metadata": {},
   "outputs": [],
   "source": [
    "#Question 1a\n",
    "## Create target\n",
    "train_y_assessed = train['assessed']\n",
    "\n",
    "## Create predictor matrix (numeric predictors only for simplicity, but we could use OHE if we wanted to)\n",
    "train_X_assessed = train.select_dtypes(\"number\").drop('sale.amount',axis=1)\n",
    "\n",
    "train_X_assessed = train_X_assessed[['bedrooms', 'area.lot', 'area.garage1']]"
   ]
  },
  {
   "cell_type": "code",
   "execution_count": 7,
   "metadata": {},
   "outputs": [],
   "source": [
    "from sklearn.preprocessing import PowerTransformer\n",
    "pipe = Pipeline([\n",
    "    ('powertransformer', PowerTransformer(method = 'yeo-johnson')),\n",
    "    ('scaler', MinMaxScaler()),\n",
    "    ('model', LinearRegression())\n",
    "])\n",
    "\n"
   ]
  },
  {
   "cell_type": "code",
   "execution_count": 8,
   "metadata": {},
   "outputs": [
    {
     "name": "stdout",
     "output_type": "stream",
     "text": [
      "rmse is 70679.75801136302\n"
     ]
    }
   ],
   "source": [
    "from sklearn.model_selection import cross_validate\n",
    "cv_res = cross_validate(pipe, train_X_assessed, train_y_assessed, cv = 5, scoring='neg_mean_squared_error')\n",
    "rmse = np.sqrt(-np.mean(cv_res['test_score']))\n",
    "print(f'rmse is {rmse}')"
   ]
  },
  {
   "cell_type": "code",
   "execution_count": 9,
   "metadata": {},
   "outputs": [
    {
     "name": "stdout",
     "output_type": "stream",
     "text": [
      "Pipeline(steps=[('scaler', StandardScaler()),\n",
      "                ('regressor',\n",
      "                 KNeighborsRegressor(n_neighbors=20, weights='distance'))])\n"
     ]
    }
   ],
   "source": [
    "# Question 2a\n",
    "from sklearn.model_selection import GridSearchCV\n",
    "from sklearn.neighbors import KNeighborsRegressor\n",
    "\n",
    "pipe = Pipeline([\n",
    "('scaler', StandardScaler()),\n",
    "('regressor', KNeighborsRegressor())\n",
    "])\n",
    "\n",
    "parms = {\n",
    "         'regressor__n_neighbors': [3, 5, 10, 20, 30],\n",
    "         'regressor__weights': ['uniform','distance'],\n",
    "        }\n",
    "\n",
    "mod_comp = GridSearchCV(pipe, parms, cv=5, scoring='neg_mean_squared_error').fit(train_X_assessed, train_y_assessed)\n",
    "print(mod_comp.best_estimator_)"
   ]
  },
  {
   "cell_type": "code",
   "execution_count": 10,
   "metadata": {},
   "outputs": [
    {
     "name": "stdout",
     "output_type": "stream",
     "text": [
      "rmse is 56843.41479618382\n"
     ]
    }
   ],
   "source": [
    "# Question 2b\n",
    "pipe = Pipeline([\n",
    "('scaler', StandardScaler()),\n",
    "('regressor', KNeighborsRegressor(n_neighbors=20, weights='distance'))\n",
    "])\n",
    "\n",
    "cv_res = cross_validate(pipe, train_X_assessed, train_y_assessed, cv = 5, scoring='neg_mean_squared_error')\n",
    "rmse = np.sqrt(-np.mean(cv_res['test_score']))\n",
    "print(f'rmse is {rmse}')\n",
    "\n",
    "# knn rmse is lower than that of linear regression"
   ]
  },
  {
   "attachments": {},
   "cell_type": "markdown",
   "metadata": {},
   "source": [
    "# Question 3a\n",
    "\n",
    "Cost function: \n",
    "$$\n",
    "\\text{Cost} = \\frac{1}{n}\\sum^n _{i=0} (y_i-x_i \\cdot w)^2\n",
    "$$\n",
    "\n",
    "Gradient: \n",
    "$$\n",
    "\\text{Gradient} = \\frac{-2}{n} \\sum^n _{i=0} (x_i^2 \\cdot w)\n",
    "$$"
   ]
  },
  {
   "cell_type": "code",
   "execution_count": 28,
   "metadata": {},
   "outputs": [],
   "source": [
    "# Qeustion 3b\n",
    "## Define cost function\n",
    "def cost_function(x, y, w):\n",
    "    n = len(y)\n",
    "    pred_y = x * w\n",
    "    err = y - pred_y\n",
    "    cost = (1./n)* err ** 2               \n",
    "    return sum(cost)    \n",
    "\n",
    "def grad_descent(x, y, w, alpha, n_iter):\n",
    "    costs = np.zeros(n_iter)\n",
    "    n = len(y) \n",
    "    \n",
    "    for i in range(n_iter):\n",
    "        grad = (-2./n) * x**2 * w\n",
    "        w = w - alpha*grad\n",
    "        costs[i] = cost_function(x, y, w)\n",
    "        \n",
    "    return w, costs"
   ]
  },
  {
   "cell_type": "code",
   "execution_count": 37,
   "metadata": {},
   "outputs": [
    {
     "data": {
      "text/plain": [
       "40735272624.85346"
      ]
     },
     "execution_count": 37,
     "metadata": {},
     "output_type": "execute_result"
    }
   ],
   "source": [
    "cost_function(x_assess, y_sale_price, w_init)"
   ]
  },
  {
   "cell_type": "code",
   "execution_count": 34,
   "metadata": {},
   "outputs": [],
   "source": [
    "#Question 3c\n",
    "\n",
    "## Standardized version of the only predictor \"assessed\"\n",
    "x_assess = (train_X['assessed'] - np.average(train_X['assessed']))/np.std(train_X['assessed'])\n",
    "y_sale_price = train['sale.amount'].to_numpy()\n",
    "w_init = np.zeros(len(x_assess))\n"
   ]
  },
  {
   "cell_type": "code",
   "execution_count": 35,
   "metadata": {},
   "outputs": [],
   "source": [
    "## Run gradient descent\n",
    "weight, costs = grad_descent(x = x_assess, \n",
    "                             y = y_sale_price, \n",
    "                             w = w_init, \n",
    "                             alpha = 0.3, \n",
    "                             n_iter = 100)"
   ]
  },
  {
   "cell_type": "code",
   "execution_count": 36,
   "metadata": {},
   "outputs": [
    {
     "data": {
      "text/plain": [
       "array([4.07352726e+10, 4.07352726e+10, 4.07352726e+10, 4.07352726e+10,\n",
       "       4.07352726e+10, 4.07352726e+10, 4.07352726e+10, 4.07352726e+10,\n",
       "       4.07352726e+10, 4.07352726e+10, 4.07352726e+10, 4.07352726e+10,\n",
       "       4.07352726e+10, 4.07352726e+10, 4.07352726e+10, 4.07352726e+10,\n",
       "       4.07352726e+10, 4.07352726e+10, 4.07352726e+10, 4.07352726e+10,\n",
       "       4.07352726e+10, 4.07352726e+10, 4.07352726e+10, 4.07352726e+10,\n",
       "       4.07352726e+10, 4.07352726e+10, 4.07352726e+10, 4.07352726e+10,\n",
       "       4.07352726e+10, 4.07352726e+10, 4.07352726e+10, 4.07352726e+10,\n",
       "       4.07352726e+10, 4.07352726e+10, 4.07352726e+10, 4.07352726e+10,\n",
       "       4.07352726e+10, 4.07352726e+10, 4.07352726e+10, 4.07352726e+10,\n",
       "       4.07352726e+10, 4.07352726e+10, 4.07352726e+10, 4.07352726e+10,\n",
       "       4.07352726e+10, 4.07352726e+10, 4.07352726e+10, 4.07352726e+10,\n",
       "       4.07352726e+10, 4.07352726e+10, 4.07352726e+10, 4.07352726e+10,\n",
       "       4.07352726e+10, 4.07352726e+10, 4.07352726e+10, 4.07352726e+10,\n",
       "       4.07352726e+10, 4.07352726e+10, 4.07352726e+10, 4.07352726e+10,\n",
       "       4.07352726e+10, 4.07352726e+10, 4.07352726e+10, 4.07352726e+10,\n",
       "       4.07352726e+10, 4.07352726e+10, 4.07352726e+10, 4.07352726e+10,\n",
       "       4.07352726e+10, 4.07352726e+10, 4.07352726e+10, 4.07352726e+10,\n",
       "       4.07352726e+10, 4.07352726e+10, 4.07352726e+10, 4.07352726e+10,\n",
       "       4.07352726e+10, 4.07352726e+10, 4.07352726e+10, 4.07352726e+10,\n",
       "       4.07352726e+10, 4.07352726e+10, 4.07352726e+10, 4.07352726e+10,\n",
       "       4.07352726e+10, 4.07352726e+10, 4.07352726e+10, 4.07352726e+10,\n",
       "       4.07352726e+10, 4.07352726e+10, 4.07352726e+10, 4.07352726e+10,\n",
       "       4.07352726e+10, 4.07352726e+10, 4.07352726e+10, 4.07352726e+10,\n",
       "       4.07352726e+10, 4.07352726e+10, 4.07352726e+10, 4.07352726e+10])"
      ]
     },
     "execution_count": 36,
     "metadata": {},
     "output_type": "execute_result"
    }
   ],
   "source": [
    "costs"
   ]
  },
  {
   "cell_type": "code",
   "execution_count": null,
   "metadata": {},
   "outputs": [],
   "source": []
  }
 ],
 "metadata": {
  "kernelspec": {
   "display_name": "Python 3",
   "language": "python",
   "name": "python3"
  },
  "language_info": {
   "codemirror_mode": {
    "name": "ipython",
    "version": 3
   },
   "file_extension": ".py",
   "mimetype": "text/x-python",
   "name": "python",
   "nbconvert_exporter": "python",
   "pygments_lexer": "ipython3",
   "version": "3.9.8"
  },
  "orig_nbformat": 4,
  "vscode": {
   "interpreter": {
    "hash": "aee8b7b246df8f9039afb4144a1f6fd8d2ca17a180786b69acc140d282b71a49"
   }
  }
 },
 "nbformat": 4,
 "nbformat_minor": 2
}
